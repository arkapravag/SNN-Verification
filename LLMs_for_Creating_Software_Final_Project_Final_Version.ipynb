{
  "cells": [
    {
      "cell_type": "markdown",
      "metadata": {
        "id": "view-in-github",
        "colab_type": "text"
      },
      "source": [
        "<a href=\"https://colab.research.google.com/github/arkapravag/SNN-Verification/blob/main/LLMs_for_Creating_Software_Final_Project_Final_Version.ipynb\" target=\"_parent\"><img src=\"https://colab.research.google.com/assets/colab-badge.svg\" alt=\"Open In Colab\"/></a>"
      ]
    },
    {
      "cell_type": "code",
      "source": [
        "from IPython.display import HTML, display\n",
        "\n",
        "def set_css():\n",
        "  display(HTML('''\n",
        "  <style>\n",
        "    pre {\n",
        "        white-space: pre-wrap;\n",
        "    }\n",
        "  </style>\n",
        "  '''))\n",
        "get_ipython().events.register('pre_run_cell', set_css)\n",
        "\n",
        "import numpy as np\n",
        "import pandas as pd\n",
        "import ipywidgets as widgets\n",
        "from IPython.display import display, clear_output, HTML\n",
        "import google.generativeai as genai\n",
        "from google.colab import userdata\n",
        "import json\n",
        "import re"
      ],
      "metadata": {
        "id": "nr_zeKlMF2Ar"
      },
      "execution_count": null,
      "outputs": []
    },
    {
      "cell_type": "code",
      "execution_count": null,
      "metadata": {
        "id": "Hj3u0a55Dosd",
        "colab": {
          "base_uri": "https://localhost:8080/",
          "height": 17
        },
        "outputId": "cc480e53-4908-4c33-ba0c-801d4aa90104"
      },
      "outputs": [
        {
          "output_type": "display_data",
          "data": {
            "text/plain": [
              "<IPython.core.display.HTML object>"
            ],
            "text/html": [
              "\n",
              "  <style>\n",
              "    pre {\n",
              "        white-space: pre-wrap;\n",
              "    }\n",
              "  </style>\n",
              "  "
            ]
          },
          "metadata": {}
        }
      ],
      "source": [
        "genai.configure(api_key=userdata.get('GOOGLE_API_KEY'))\n",
        "model = genai.GenerativeModel(\"gemini-2.0-flash\")"
      ]
    },
    {
      "cell_type": "markdown",
      "source": [
        "# Setting up the map using the Game-Generator-LLM"
      ],
      "metadata": {
        "id": "DvqnXiGGfXq3"
      }
    },
    {
      "cell_type": "code",
      "execution_count": null,
      "metadata": {
        "id": "nPvHj-3A8uqT",
        "colab": {
          "base_uri": "https://localhost:8080/",
          "height": 17
        },
        "outputId": "2b3a1478-ad2b-4a40-8b0c-0f0fba2f6bba"
      },
      "outputs": [
        {
          "output_type": "display_data",
          "data": {
            "text/plain": [
              "<IPython.core.display.HTML object>"
            ],
            "text/html": [
              "\n",
              "  <style>\n",
              "    pre {\n",
              "        white-space: pre-wrap;\n",
              "    }\n",
              "  </style>\n",
              "  "
            ]
          },
          "metadata": {}
        }
      ],
      "source": [
        "game_generator_prompt = '''Generate a Zork map and specify the winning condition.\\n\n",
        "The zork map should be in the form of a graph. The graphs can have cycles.\\n\n",
        "A player should be able to navigate this map later and find the winning condition. Every room should have  2 or 3 survival objects ,One correct object that counters the enemy, An enemy field for clarity A correct_object field indicating the optimal survival item\\n\n",
        "An example is as follows {\n",
        "  \"map\": {\n",
        "    \"Clearing\": {\n",
        "      \"description\": \"You are standing in a clearing. A path leads north, south, and east.\",\n",
        "      \"exits\": {\n",
        "        \"north\": \"Forest\",\n",
        "        \"south\": \"Creek\",\n",
        "        \"east\": \"RockyPass\"\n",
        "      },\n",
        "      \"objects\": [\"Rope\", \"Torch\", \"Axe\"],\n",
        "      \"enemy\": \"None\",\n",
        "      \"correct_object\": \"None\"\n",
        "    },\n",
        "    \"Forest\": {\n",
        "      \"description\": \"You are in a dense forest. Sunlight barely penetrates the canopy. A path leads south and west.\",\n",
        "      \"exits\": {\n",
        "        \"south\": \"Clearing\",\n",
        "        \"west\": \"HiddenCave\"\n",
        "      },\n",
        "      \"objects\": [\"Knife\", \"HealingHerb\", \"SturdyStick\"],\n",
        "      \"enemy\": \"Giant Spider\",\n",
        "      \"correct_object\": \"Torch\"\n",
        "    },\n",
        "    \"Creek\": {\n",
        "      \"description\": \"You are beside a clear, flowing creek. A path leads north and east.\",\n",
        "      \"exits\": {\n",
        "        \"north\": \"Clearing\",\n",
        "        \"east\": \"DarkWoods\"\n",
        "      },\n",
        "      \"objects\": [\"FishingRod\", \"Waterskin\", \"SharpRock\"],\n",
        "      \"enemy\": \"Grizzly Bear\",\n",
        "      \"correct_object\": \"SharpRock\"\n",
        "    },\n",
        "    \"RockyPass\": {\n",
        "      \"description\": \"You are in a rocky pass. The path continues west and north.\",\n",
        "      \"exits\": {\n",
        "        \"west\": \"Clearing\",\n",
        "        \"north\": \"AncientRuins\"\n",
        "      },\n",
        "      \"objects\": [\"Map\", \"Compass\", \"Pickaxe\"],\n",
        "      \"enemy\": \"Rock Serpent\",\n",
        "      \"correct_object\": \"Pickaxe\"\n",
        "    },\n",
        "    \"HiddenCave\": {\n",
        "      \"description\": \"You have found a hidden cave. It is damp and dark. A path leads east.\",\n",
        "      \"exits\": {\n",
        "        \"east\": \"Forest\"\n",
        "      },\n",
        "      \"objects\": [\"GoldenIdol\", \"RustySword\", \"Tinderbox\"],\n",
        "      \"enemy\": \"Bat Swarm\",\n",
        "      \"correct_object\": \"Tinderbox\"\n",
        "    },\n",
        "    \"DarkWoods\": {\n",
        "      \"description\": \"You are surrounded by dark, looming trees. The path leads west and south.\",\n",
        "      \"exits\": {\n",
        "        \"west\": \"Creek\",\n",
        "        \"south\": \"OminousGrave\"\n",
        "      },\n",
        "      \"objects\": [\"Lantern\", \"Shovel\", \"DriedRations\"],\n",
        "      \"enemy\": \"Evil Spirit\",\n",
        "      \"correct_object\": \"Lantern\"\n",
        "    },\n",
        "    \"AncientRuins\": {\n",
        "      \"description\": \"You stand before ancient ruins. The air is thick with mystery. A path leads south and east.\",\n",
        "      \"exits\": {\n",
        "        \"south\": \"RockyPass\",\n",
        "        \"east\": \"TreasureChamber\"\n",
        "      },\n",
        "      \"objects\": [\"Scroll\", \"JeweledSkull\", \"StrangeKey\"],\n",
        "      \"enemy\": \"Stone Golem\",\n",
        "      \"correct_object\": \"StrangeKey\"\n",
        "        },\n",
        "    \"OminousGrave\": {\n",
        "      \"description\": \"An ominous grave sits here. You feel a chill in the air. The path leads north.\",\n",
        "      \"exits\": {\n",
        "        \"north\": \"DarkWoods\"\n",
        "      },\n",
        "      \"objects\": [\"SilverCross\", \"HolyWater\", \"Bone\"],\n",
        "      \"enemy\": \"Undead Knight\",\n",
        "      \"correct_object\": \"SilverCross\"\n",
        "    },\n",
        "    \"TreasureChamber\": {\n",
        "      \"description\": \"You have found the treasure chamber! Gold and jewels gleam in the light.\",\n",
        "      \"exits\": {},\n",
        "      \"objects\": [\"GoldCoins\", \"Jewels\", \"TreasureChest\"],\n",
        "      \"enemy\": \"None\",\n",
        "      \"correct_object\": \"None\",\n",
        "    }\n",
        "  },\n",
        "  \"winning_condition\": {\n",
        "    \"location\": \"TreasureChamber\",\n",
        "    \"item_needed\": \"GoldenIdol\"\n",
        "  },\n",
        "  \"starting_location\": \"Clearing\"\n",
        "}\n",
        "Generate the game and its components as output in a JSON format\\n'''"
      ]
    },
    {
      "cell_type": "code",
      "source": [
        "response = model.generate_content(game_generator_prompt)"
      ],
      "metadata": {
        "id": "PpZXW-UIY_Y4",
        "colab": {
          "base_uri": "https://localhost:8080/",
          "height": 17
        },
        "outputId": "60285012-92e9-4882-d332-c62c513d841f"
      },
      "execution_count": null,
      "outputs": [
        {
          "output_type": "display_data",
          "data": {
            "text/plain": [
              "<IPython.core.display.HTML object>"
            ],
            "text/html": [
              "\n",
              "  <style>\n",
              "    pre {\n",
              "        white-space: pre-wrap;\n",
              "    }\n",
              "  </style>\n",
              "  "
            ]
          },
          "metadata": {}
        }
      ]
    },
    {
      "cell_type": "code",
      "source": [
        "txt_response = response.text"
      ],
      "metadata": {
        "id": "NbvzFCKjZw3G",
        "colab": {
          "base_uri": "https://localhost:8080/",
          "height": 17
        },
        "outputId": "02490cfc-9016-4818-8d6b-61a3a1610117"
      },
      "execution_count": null,
      "outputs": [
        {
          "output_type": "display_data",
          "data": {
            "text/plain": [
              "<IPython.core.display.HTML object>"
            ],
            "text/html": [
              "\n",
              "  <style>\n",
              "    pre {\n",
              "        white-space: pre-wrap;\n",
              "    }\n",
              "  </style>\n",
              "  "
            ]
          },
          "metadata": {}
        }
      ]
    },
    {
      "cell_type": "code",
      "source": [],
      "metadata": {
        "id": "ib8u-bZfcRKc"
      },
      "execution_count": null,
      "outputs": []
    },
    {
      "cell_type": "code",
      "source": [
        "clean_json = txt_response.replace('\\n', '')\n",
        "clean_json = clean_json.strip()\n",
        "if clean_json.startswith(\"```json\"):\n",
        "    clean_json = clean_json[len(\"```json\"):].lstrip()\n",
        "elif clean_json.startswith(\"```\"):\n",
        "    clean_json = clean_json[len(\"```\"):].lstrip()\n",
        "\n",
        "if clean_json.endswith(\"```\"):\n",
        "    clean_json = clean_json[:-3].rstrip()"
      ],
      "metadata": {
        "id": "G4bsI1hSfGlz",
        "colab": {
          "base_uri": "https://localhost:8080/",
          "height": 17
        },
        "outputId": "9629532b-368a-4733-b9a6-b8abbfa16fbd"
      },
      "execution_count": null,
      "outputs": [
        {
          "output_type": "display_data",
          "data": {
            "text/plain": [
              "<IPython.core.display.HTML object>"
            ],
            "text/html": [
              "\n",
              "  <style>\n",
              "    pre {\n",
              "        white-space: pre-wrap;\n",
              "    }\n",
              "  </style>\n",
              "  "
            ]
          },
          "metadata": {}
        }
      ]
    },
    {
      "cell_type": "code",
      "source": [],
      "metadata": {
        "id": "Eb5jXhPDeEwj"
      },
      "execution_count": null,
      "outputs": []
    },
    {
      "cell_type": "code",
      "source": [
        "# Predefined Map\n",
        "\n",
        "data = {\n",
        "  \"map\": {\n",
        "    \"CrystalBridge\": {\n",
        "      \"description\": \"A shimmering crystal bridge stretches over a vast chasm. Paths lead east and south.\",\n",
        "      \"exits\": {\n",
        "        \"east\": \"CastleRuins\",\n",
        "        \"south\": \"Lake\"\n",
        "      },\n",
        "      \"objects\": [\"Shield\", \"MagicStone\", \"Whistle\"],\n",
        "      \"enemy\": \"Air Elemental\",\n",
        "      \"correct_object\": \"MagicStone\"\n",
        "    },\n",
        "    \"CastleRuins\": {\n",
        "      \"description\": \"The remains of an ancient castle loom above. Broken towers cast long shadows. Paths lead west, east, and south.\",\n",
        "      \"exits\": {\n",
        "        \"west\": \"CrystalBridge\",\n",
        "        \"east\": \"TreasureChamber\",\n",
        "        \"south\": \"ForestClearing\"\n",
        "      },\n",
        "      \"objects\": [\"IronSword\", \"Spellbook\", \"Candle\"],\n",
        "      \"enemy\": \"Ghost Knight\",\n",
        "      \"correct_object\": \"Spellbook\"\n",
        "    },\n",
        "    \"TreasureChamber\": {\n",
        "      \"description\": \"You've entered the Treasure Chamber. Riches gleam under a beam of light from above. Paths lead west and south.\",\n",
        "      \"exits\": {\n",
        "        \"west\": \"CastleRuins\",\n",
        "        \"south\": \"DarkCave\"\n",
        "      },\n",
        "      \"objects\": [\"Crown\", \"GoldenIdol\", \"Gems\"],\n",
        "      \"enemy\": \"None\",\n",
        "      \"correct_object\": \"None\"\n",
        "    },\n",
        "    \"DarkCave\": {\n",
        "      \"description\": \"You are in a pitch-black cave. Moisture drips from the ceiling. Paths lead north and west.\",\n",
        "      \"exits\": {\n",
        "        \"north\": \"TreasureChamber\",\n",
        "        \"west\": \"ForestClearing\"\n",
        "      },\n",
        "      \"objects\": [\"Flint\", \"Lantern\", \"OldCoin\"],\n",
        "      \"enemy\": \"Cave Troll\",\n",
        "      \"correct_object\": \"Lantern\"\n",
        "    },\n",
        "    \"ForestClearing\": {\n",
        "      \"description\": \"You find yourself in a quiet forest clearing. Birds chirp in the distance. Paths lead north, west, and east.\",\n",
        "      \"exits\": {\n",
        "        \"north\": \"CastleRuins\",\n",
        "        \"west\": \"Lake\",\n",
        "        \"east\": \"DarkCave\"\n",
        "      },\n",
        "      \"objects\": [\"Bow\", \"Torch\", \"Net\"],\n",
        "      \"enemy\": \"Forest Wraith\",\n",
        "      \"correct_object\": \"Torch\"\n",
        "    },\n",
        "    \"Lake\": {\n",
        "      \"description\": \"A calm lake glimmers under the sunlight. Paths lead north and east.\",\n",
        "      \"exits\": {\n",
        "        \"north\": \"CrystalBridge\",\n",
        "        \"east\": \"ForestClearing\"\n",
        "      },\n",
        "      \"objects\": [\"Harpoon\", \"Waterskin\", \"Mirror\"],\n",
        "      \"enemy\": \"Water Serpent\",\n",
        "      \"correct_object\": \"Harpoon\"\n",
        "    }\n",
        "  },\n",
        "  \"winning_condition\": {\n",
        "    \"location\": \"TreasureChamber\",\n",
        "    # \"item_needed\": \"GoldenIdol\"\n",
        "  },\n",
        "  \"starting_location\": \"CrystalBridge\"\n",
        "}\n",
        "\n",
        "game_data_copy =  data"
      ],
      "metadata": {
        "colab": {
          "base_uri": "https://localhost:8080/",
          "height": 17
        },
        "id": "geEK8GflVWa6",
        "outputId": "e2b52dc3-cb20-41df-9d94-d128f126ad35"
      },
      "execution_count": null,
      "outputs": [
        {
          "output_type": "display_data",
          "data": {
            "text/plain": [
              "<IPython.core.display.HTML object>"
            ],
            "text/html": [
              "\n",
              "  <style>\n",
              "    pre {\n",
              "        white-space: pre-wrap;\n",
              "    }\n",
              "  </style>\n",
              "  "
            ]
          },
          "metadata": {}
        }
      ]
    },
    {
      "cell_type": "code",
      "source": [
        "def is_villain_present(game_map, current_location):\n",
        "    \"\"\"\n",
        "    Checks if there's a villain in the current location.\n",
        "\n",
        "    Args:\n",
        "        game_map (dict): The entire game map.\n",
        "        current_location (str): The current location name.\n",
        "\n",
        "    Returns:\n",
        "        bool: True if a villain is present, False otherwise.\n",
        "    \"\"\"\n",
        "    location_data = game_map.get(current_location, {})\n",
        "    enemy = location_data.get(\"enemy\", \"None\")\n",
        "    return enemy != \"None\""
      ],
      "metadata": {
        "id": "7C3e2Z86r6pa",
        "colab": {
          "base_uri": "https://localhost:8080/",
          "height": 17
        },
        "outputId": "560d3650-33c6-4be9-ad0a-82bcf39e082b"
      },
      "execution_count": null,
      "outputs": [
        {
          "output_type": "display_data",
          "data": {
            "text/plain": [
              "<IPython.core.display.HTML object>"
            ],
            "text/html": [
              "\n",
              "  <style>\n",
              "    pre {\n",
              "        white-space: pre-wrap;\n",
              "    }\n",
              "  </style>\n",
              "  "
            ]
          },
          "metadata": {}
        }
      ]
    },
    {
      "cell_type": "code",
      "source": [
        "def get_location_details(location_name):\n",
        "    game_map = data['map']\n",
        "    output = \"\"\n",
        "\n",
        "    if location_name in game_map:\n",
        "        location = game_map[location_name]\n",
        "        output += f\"--- Details for '{location_name}' ---\\n\"\n",
        "        # output += f\"Description: {location['description']}\\n\"\n",
        "        output += f\"Objects: {location['objects']}\\n\"\n",
        "        output += f\"Enemy: {location['enemy']}\\n\"\n",
        "        output += f\"Correct Object: {location['correct_object']}\\n\"\n",
        "    else:\n",
        "        output += f\"Location '{location_name}' not found in the map.\\n\"\n",
        "\n",
        "    return output"
      ],
      "metadata": {
        "id": "IATTpJ0yfOIc",
        "colab": {
          "base_uri": "https://localhost:8080/",
          "height": 17
        },
        "outputId": "4894732a-13f1-469e-fd3e-13086f599c49"
      },
      "execution_count": null,
      "outputs": [
        {
          "output_type": "display_data",
          "data": {
            "text/plain": [
              "<IPython.core.display.HTML object>"
            ],
            "text/html": [
              "\n",
              "  <style>\n",
              "    pre {\n",
              "        white-space: pre-wrap;\n",
              "    }\n",
              "  </style>\n",
              "  "
            ]
          },
          "metadata": {}
        }
      ]
    },
    {
      "cell_type": "code",
      "source": [
        "def update_llm_game_host(data, game_history, data_cur_loc, user_move):\n",
        "    global llm_game_host\n",
        "    # Instead of calling llm_game_host, format the string with the new values\n",
        "    llm_game_host = f'''You are a game host for a text-based adventure game.\n",
        "    Your task is to guide the player through a series of locations, describe the surroundings, and handle their actions. Here are the rules:\n",
        "\n",
        "    Describe current location, including its description and the enemy.\n",
        "    Then, ask the player for their next action.\n",
        "\n",
        "    If the player looks around, they should see all the items that are present in the room.\n",
        "    If the player encounters an enemy, describe the encounter and ask the player for their next action.\n",
        "\n",
        "    Here is the history of the game so far: {game_history}\n",
        "\n",
        "    Here is the current location and its details: {data_cur_loc}\n",
        "\n",
        "    The user chooses to {user_move}\n",
        "    You will act according to the user input and output the result using the details of the current location.\n",
        "\n",
        "    Describe what happens now.\n",
        "    If the enemy was successfully countered with the correct object in this round, also output \"ENEMY CLEAR\"\n",
        "    '''\n",
        "    return llm_game_host\n",
        "\n",
        "  #  If the player wins the game by finding the treasure, congratulate them and end the game.\n",
        "   # If the player's action is invalid, tell them it's invalid and ask for their next action."
      ],
      "metadata": {
        "id": "ATKzkzsLcbPf",
        "colab": {
          "base_uri": "https://localhost:8080/",
          "height": 17
        },
        "outputId": "b706905d-2093-4db3-c4df-9d9a4094a589"
      },
      "execution_count": null,
      "outputs": [
        {
          "output_type": "display_data",
          "data": {
            "text/plain": [
              "<IPython.core.display.HTML object>"
            ],
            "text/html": [
              "\n",
              "  <style>\n",
              "    pre {\n",
              "        white-space: pre-wrap;\n",
              "    }\n",
              "  </style>\n",
              "  "
            ]
          },
          "metadata": {}
        }
      ]
    },
    {
      "cell_type": "code",
      "source": [
        "def update_llm_game_host_for_nav(data, game_history, cur_loc, user_move):\n",
        "    global llm_game_host\n",
        "\n",
        "    game_map = data['map']\n",
        "    output = \"\"\n",
        "    location_name = cur_loc\n",
        "    if location_name in game_map:\n",
        "        location = game_map[location_name]\n",
        "        output += f\"--- Details for '{location_name}' ---\\n\"\n",
        "        output += f\"Description: {location['description']}\\n\"\n",
        "        output += f\"Exits: {location['exits']}\\n\"\n",
        "    else:\n",
        "        output += f\"Location '{location_name}' not found in the map.\\n\"\n",
        "\n",
        "    data_cur_loc = output\n",
        "\n",
        "    # Instead of calling llm_game_host, format the string with the new values\n",
        "    llm_game_host = f'''You are a game host for a text-based adventure game.\n",
        "    Your task is to guide the player through a series of locations, describe the surroundings, and handle their actions.\n",
        "\n",
        "    Here is the history of the game so far: {game_history}\n",
        "\n",
        "    Here is the current location and its details: {data_cur_loc}\n",
        "\n",
        "    Ask which direction the player wants to go.\n",
        "    '''\n",
        "    return llm_game_host"
      ],
      "metadata": {
        "id": "rZXhJvJkVO4Q",
        "colab": {
          "base_uri": "https://localhost:8080/",
          "height": 17
        },
        "outputId": "82623679-e1b1-41c4-8bdc-0bbebf81c3fb"
      },
      "execution_count": null,
      "outputs": [
        {
          "output_type": "display_data",
          "data": {
            "text/plain": [
              "<IPython.core.display.HTML object>"
            ],
            "text/html": [
              "\n",
              "  <style>\n",
              "    pre {\n",
              "        white-space: pre-wrap;\n",
              "    }\n",
              "  </style>\n",
              "  "
            ]
          },
          "metadata": {}
        }
      ]
    },
    {
      "cell_type": "code",
      "source": [
        "def cleanse_location(game_data, location_name):\n",
        "    if location_name in game_data['map']:\n",
        "        game_data['map'][location_name]['enemy'] = 'None'\n",
        "        game_data['map'][location_name]['objects'] = []\n",
        "    return game_data\n",
        "\n",
        "def next_location(game_data, current_location, direction):\n",
        "    if current_location in game_data['map'] and direction in game_data['map'][current_location]['exits']:\n",
        "        return game_data['map'][current_location]['exits'][direction]\n",
        "    return current_location  # Stay in the same location if invalid direction\n",
        "\n",
        "def contains_direction(text):\n",
        "    # Regular expression to match cardinal directions\n",
        "    pattern = r'\\b(east|west|north|south|run)\\b'\n",
        "    match = re.search(pattern, text, re.IGNORECASE)\n",
        "    return bool(match)\n",
        "\n",
        "def get_last_few_lines(text):\n",
        "    lines = text.strip().splitlines()\n",
        "    return '\\n'.join(lines[-10:])\n",
        "\n",
        "\n",
        "def get_place_by_number(data, number):\n",
        "    places = list(data['map'].keys())\n",
        "    if 1 <= number <= len(places):\n",
        "        return places[number - 1]\n",
        "    else:\n",
        "        return \"Invalid number\""
      ],
      "metadata": {
        "id": "vF7Crd-212f6",
        "colab": {
          "base_uri": "https://localhost:8080/",
          "height": 17
        },
        "outputId": "dba0a47a-4157-4221-88cf-c59d94a434eb"
      },
      "execution_count": null,
      "outputs": [
        {
          "output_type": "display_data",
          "data": {
            "text/plain": [
              "<IPython.core.display.HTML object>"
            ],
            "text/html": [
              "\n",
              "  <style>\n",
              "    pre {\n",
              "        white-space: pre-wrap;\n",
              "    }\n",
              "  </style>\n",
              "  "
            ]
          },
          "metadata": {}
        }
      ]
    },
    {
      "cell_type": "code",
      "source": [
        "def generate_final_act_prompt(game_history, cur_loc):\n",
        "\n",
        "    final_act_prompt = f'''You are a game host for a text-based adventure game.\n",
        "    Your task is to guide the player through a series of locations, describe the surroundings, and handle their actions.\n",
        "\n",
        "    Here is the history of the game so far: {game_history}\n",
        "\n",
        "    The player has successfully reached the {cur_loc}\".\n",
        "\n",
        "    Give him three options to choose from: a gold, a silver and a bronze key.\n",
        "    '''\n",
        "\n",
        "    return final_act_prompt"
      ],
      "metadata": {
        "id": "_fTPQEPWdrqz",
        "colab": {
          "base_uri": "https://localhost:8080/",
          "height": 17
        },
        "outputId": "9ec5e678-0e32-490c-83b7-0a0c39e639e4"
      },
      "execution_count": null,
      "outputs": [
        {
          "output_type": "display_data",
          "data": {
            "text/plain": [
              "<IPython.core.display.HTML object>"
            ],
            "text/html": [
              "\n",
              "  <style>\n",
              "    pre {\n",
              "        white-space: pre-wrap;\n",
              "    }\n",
              "  </style>\n",
              "  "
            ]
          },
          "metadata": {}
        }
      ]
    },
    {
      "cell_type": "code",
      "source": [
        "def generate_result_of_the_game_prompt(game_history, cur_loc, user_input):\n",
        "\n",
        "    result_of_the_game_prompt = f'''You are a game host for a text-based adventure game.\n",
        "        Your task is to guide the player through a series of locations, describe the surroundings, and handle their actions.\n",
        "\n",
        "        Here is the history of the game so far: {game_history}\n",
        "\n",
        "        The player has successfully reached the {cur_loc}.\n",
        "\n",
        "        There were three options to choose from: a gold, a silver and a bronze key.\n",
        "\n",
        "        The user has chosen {user_input}.\n",
        "\n",
        "        The correct option was the silver key.\n",
        "\n",
        "        If the user did not choose the silver key, output a crazy explanation of why his chosen output was wrong and the silver key was right.\n",
        "\n",
        "        Also say that the game has ended.\n",
        "\n",
        "    '''\n",
        "    return result_of_the_game_prompt"
      ],
      "metadata": {
        "colab": {
          "base_uri": "https://localhost:8080/",
          "height": 17
        },
        "id": "BUIvgj_hWNqZ",
        "outputId": "265ff746-c86e-450b-e40a-e11fc77a4852"
      },
      "execution_count": null,
      "outputs": [
        {
          "output_type": "display_data",
          "data": {
            "text/plain": [
              "<IPython.core.display.HTML object>"
            ],
            "text/html": [
              "\n",
              "  <style>\n",
              "    pre {\n",
              "        white-space: pre-wrap;\n",
              "    }\n",
              "  </style>\n",
              "  "
            ]
          },
          "metadata": {}
        }
      ]
    },
    {
      "cell_type": "code",
      "source": [
        "# Initialization of variables\n",
        "cur_loc = get_place_by_number(data,1) # start from the first location in the map\n",
        "data_cur_loc = get_location_details(cur_loc)\n",
        "\n",
        "if is_villain_present(data['map'], cur_loc):\n",
        "    villain_fight_mode = True\n",
        "else:\n",
        "    villain_fight_mode = False\n",
        "prev_loc = \"\"\n",
        "user_move = \"No moves yet. The game is starting\"\n",
        "game_history = \"\"\n",
        "user_move = \"None\"\n",
        "user_direction = 0\n",
        "move_successful = 0\n",
        "enemy_just_defeated = False\n",
        "\n",
        "for i in range(100):\n",
        "\n",
        "    if villain_fight_mode == True and contains_direction(user_move):\n",
        "        user_move = \"look for any enemies\"\n",
        "\n",
        "    llm_game_host = update_llm_game_host(data, game_history, data_cur_loc, user_move)\n",
        "\n",
        "    if cur_loc == \"TreasureChamber\":\n",
        "        text = model.generate_content(generate_final_act_prompt(game_history, cur_loc)).text\n",
        "        print()\n",
        "        print(\"-----------------------------------------------------------------------\")\n",
        "        print(text)\n",
        "        user_move = input()\n",
        "        game_history += \"\\nGame: \"+text\n",
        "        game_history += \"\\nPlayer: \" + user_move\n",
        "        text = model.generate_content(generate_result_of_the_game_prompt(game_history, cur_loc, user_move)).text\n",
        "        print(text)\n",
        "        print(\"THE END\")\n",
        "        break\n",
        "\n",
        "    if villain_fight_mode == True:\n",
        "        print()\n",
        "        print(\"-----------------------------------------------------------------------\")\n",
        "        text = model.generate_content(llm_game_host).text\n",
        "        if( \"ENEMY CLEAR\" in text):\n",
        "            data = cleanse_location(data, cur_loc)\n",
        "            text = text.replace('ENEMY CLEAR', '')\n",
        "            villain_fight_mode = False\n",
        "            enemy_just_defeated = True\n",
        "        else:\n",
        "            pass\n",
        "        print()\n",
        "        print(text)\n",
        "        prev_loc = cur_loc\n",
        "\n",
        "        if enemy_just_defeated:\n",
        "            pass\n",
        "        else:\n",
        "            user_move = input()\n",
        "\n",
        "        enemy_just_defeated = False\n",
        "\n",
        "        game_history += \"\\nGame: \"+text\n",
        "        game_history += \"\\nPlayer: \" + user_move\n",
        "\n",
        "    else:\n",
        "        # LLM describing the exits if there is no enemy\n",
        "        llm_game_host_nav = update_llm_game_host_for_nav(data, game_history, cur_loc, user_move)\n",
        "        text = model.generate_content(llm_game_host_nav).text\n",
        "        print()\n",
        "        print(\"-----------------------------------------------------------------------\")\n",
        "        print(text)\n",
        "        user_move = input()\n",
        "        user_direction = user_move\n",
        "        if user_direction != 0 and i!=0:\n",
        "            try:\n",
        "                user_direction = re.search(r'(north|south|east|west)', user_direction, re.IGNORECASE).group(1)\n",
        "            except AttributeError:\n",
        "                print(\"Invalid move\")\n",
        "                continue\n",
        "        cur_loc = next_location(data, cur_loc, user_direction)\n",
        "        if cur_loc == prev_loc:\n",
        "            print(\"Invalid! Please try again.\")\n",
        "        else:\n",
        "          game_history += \"\\nGame: \"+text\n",
        "          game_history += \"\\nPlayer: \" + user_move\n",
        "        data_cur_loc = get_location_details(cur_loc)\n",
        "        if is_villain_present(data['map'], cur_loc):\n",
        "            villain_fight_mode = True\n",
        "        else:\n",
        "            villain_fight_mode = False\n",
        "        llm_game_host = update_llm_game_host(data, game_history, data_cur_loc, user_move)\n",
        "\n",
        "\n",
        "    game_history = get_last_few_lines(game_history)"
      ],
      "metadata": {
        "id": "QmRuaynNcLmH",
        "colab": {
          "base_uri": "https://localhost:8080/",
          "height": 535
        },
        "outputId": "acb63023-6a70-44d2-c559-68e929dbe066"
      },
      "execution_count": null,
      "outputs": [
        {
          "output_type": "display_data",
          "data": {
            "text/plain": [
              "<IPython.core.display.HTML object>"
            ],
            "text/html": [
              "\n",
              "  <style>\n",
              "    pre {\n",
              "        white-space: pre-wrap;\n",
              "    }\n",
              "  </style>\n",
              "  "
            ]
          },
          "metadata": {}
        },
        {
          "output_type": "stream",
          "name": "stdout",
          "text": [
            "\n",
            "-----------------------------------------------------------------------\n",
            "\n",
            "You stand on the Crystal Bridge, a shimmering expanse of interwoven crystal strands suspended high above a chasm. The air hums with barely contained energy. Before you swirls an Air Elemental, a sentient vortex of wind and crackling lightning, its form constantly shifting and reforming. It howls, and the bridge vibrates under the force of its gust.\n",
            "\n",
            "What will you do?\n",
            "\n"
          ]
        },
        {
          "output_type": "error",
          "ename": "KeyboardInterrupt",
          "evalue": "Interrupted by user",
          "traceback": [
            "\u001b[0;31m---------------------------------------------------------------------------\u001b[0m",
            "\u001b[0;31mKeyboardInterrupt\u001b[0m                         Traceback (most recent call last)",
            "\u001b[0;32m<ipython-input-15-c8224fb6d90c>\u001b[0m in \u001b[0;36m<cell line: 0>\u001b[0;34m()\u001b[0m\n\u001b[1;32m     53\u001b[0m             \u001b[0;32mpass\u001b[0m\u001b[0;34m\u001b[0m\u001b[0;34m\u001b[0m\u001b[0m\n\u001b[1;32m     54\u001b[0m         \u001b[0;32melse\u001b[0m\u001b[0;34m:\u001b[0m\u001b[0;34m\u001b[0m\u001b[0;34m\u001b[0m\u001b[0m\n\u001b[0;32m---> 55\u001b[0;31m             \u001b[0muser_move\u001b[0m \u001b[0;34m=\u001b[0m \u001b[0minput\u001b[0m\u001b[0;34m(\u001b[0m\u001b[0;34m)\u001b[0m\u001b[0;34m\u001b[0m\u001b[0;34m\u001b[0m\u001b[0m\n\u001b[0m\u001b[1;32m     56\u001b[0m \u001b[0;34m\u001b[0m\u001b[0m\n\u001b[1;32m     57\u001b[0m         \u001b[0menemy_just_defeated\u001b[0m \u001b[0;34m=\u001b[0m \u001b[0;32mFalse\u001b[0m\u001b[0;34m\u001b[0m\u001b[0;34m\u001b[0m\u001b[0m\n",
            "\u001b[0;32m/usr/local/lib/python3.11/dist-packages/ipykernel/kernelbase.py\u001b[0m in \u001b[0;36mraw_input\u001b[0;34m(self, prompt)\u001b[0m\n\u001b[1;32m   1175\u001b[0m                 \u001b[0;34m\"raw_input was called, but this frontend does not support input requests.\"\u001b[0m\u001b[0;34m\u001b[0m\u001b[0;34m\u001b[0m\u001b[0m\n\u001b[1;32m   1176\u001b[0m             )\n\u001b[0;32m-> 1177\u001b[0;31m         return self._input_request(\n\u001b[0m\u001b[1;32m   1178\u001b[0m             \u001b[0mstr\u001b[0m\u001b[0;34m(\u001b[0m\u001b[0mprompt\u001b[0m\u001b[0;34m)\u001b[0m\u001b[0;34m,\u001b[0m\u001b[0;34m\u001b[0m\u001b[0;34m\u001b[0m\u001b[0m\n\u001b[1;32m   1179\u001b[0m             \u001b[0mself\u001b[0m\u001b[0;34m.\u001b[0m\u001b[0m_parent_ident\u001b[0m\u001b[0;34m[\u001b[0m\u001b[0;34m\"shell\"\u001b[0m\u001b[0;34m]\u001b[0m\u001b[0;34m,\u001b[0m\u001b[0;34m\u001b[0m\u001b[0;34m\u001b[0m\u001b[0m\n",
            "\u001b[0;32m/usr/local/lib/python3.11/dist-packages/ipykernel/kernelbase.py\u001b[0m in \u001b[0;36m_input_request\u001b[0;34m(self, prompt, ident, parent, password)\u001b[0m\n\u001b[1;32m   1217\u001b[0m             \u001b[0;32mexcept\u001b[0m \u001b[0mKeyboardInterrupt\u001b[0m\u001b[0;34m:\u001b[0m\u001b[0;34m\u001b[0m\u001b[0;34m\u001b[0m\u001b[0m\n\u001b[1;32m   1218\u001b[0m                 \u001b[0;31m# re-raise KeyboardInterrupt, to truncate traceback\u001b[0m\u001b[0;34m\u001b[0m\u001b[0;34m\u001b[0m\u001b[0m\n\u001b[0;32m-> 1219\u001b[0;31m                 \u001b[0;32mraise\u001b[0m \u001b[0mKeyboardInterrupt\u001b[0m\u001b[0;34m(\u001b[0m\u001b[0;34m\"Interrupted by user\"\u001b[0m\u001b[0;34m)\u001b[0m \u001b[0;32mfrom\u001b[0m \u001b[0;32mNone\u001b[0m\u001b[0;34m\u001b[0m\u001b[0;34m\u001b[0m\u001b[0m\n\u001b[0m\u001b[1;32m   1220\u001b[0m             \u001b[0;32mexcept\u001b[0m \u001b[0mException\u001b[0m\u001b[0;34m:\u001b[0m\u001b[0;34m\u001b[0m\u001b[0;34m\u001b[0m\u001b[0m\n\u001b[1;32m   1221\u001b[0m                 \u001b[0mself\u001b[0m\u001b[0;34m.\u001b[0m\u001b[0mlog\u001b[0m\u001b[0;34m.\u001b[0m\u001b[0mwarning\u001b[0m\u001b[0;34m(\u001b[0m\u001b[0;34m\"Invalid Message:\"\u001b[0m\u001b[0;34m,\u001b[0m \u001b[0mexc_info\u001b[0m\u001b[0;34m=\u001b[0m\u001b[0;32mTrue\u001b[0m\u001b[0;34m)\u001b[0m\u001b[0;34m\u001b[0m\u001b[0;34m\u001b[0m\u001b[0m\n",
            "\u001b[0;31mKeyboardInterrupt\u001b[0m: Interrupted by user"
          ]
        }
      ]
    }
  ],
  "metadata": {
    "colab": {
      "provenance": [],
      "include_colab_link": true
    },
    "kernelspec": {
      "display_name": "Python 3",
      "name": "python3"
    },
    "language_info": {
      "name": "python"
    }
  },
  "nbformat": 4,
  "nbformat_minor": 0
}