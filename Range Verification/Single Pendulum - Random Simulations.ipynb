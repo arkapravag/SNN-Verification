{
 "cells": [
  {
   "cell_type": "code",
   "execution_count": 3,
   "id": "041bf9e8",
   "metadata": {},
   "outputs": [],
   "source": [
    "from helper_functions import *\n",
    "import nengo\n",
    "import nengo_dl"
   ]
  },
  {
   "cell_type": "markdown",
   "id": "14f6b4bc",
   "metadata": {},
   "source": [
    "# Specifying architecture in Tensorflow"
   ]
  },
  {
   "cell_type": "code",
   "execution_count": 4,
   "id": "accc4a28",
   "metadata": {},
   "outputs": [],
   "source": [
    "inp = tf.keras.Input(shape=(2))\n",
    "dense1 = layers.Dense(25, activation=tf.nn.relu, use_bias = True)(inp)\n",
    "dense2 = layers.Dense(25, activation=tf.nn.relu, use_bias = True)(dense1)\n",
    "output = layers.Dense(1, use_bias = True)(dense2)\n",
    "nn_ctlr=tf.keras.Model(inputs=inp,outputs=output)"
   ]
  },
  {
   "cell_type": "markdown",
   "id": "7398b12c",
   "metadata": {},
   "source": [
    "# Loading the weights from the .onnx file to the TF model"
   ]
  },
  {
   "cell_type": "code",
   "execution_count": 6,
   "id": "0483c690",
   "metadata": {},
   "outputs": [],
   "source": [
    "onnx_model_path = '../benchmarks/controller_single_pendulum.onnx'\n",
    "onnx_model = onnx.load(onnx_model_path)\n",
    "params_array = []\n",
    "\n",
    "for initializer in onnx_model.graph.initializer:\n",
    "    # Convert the initializer tensor to a NumPy array\n",
    "    tensor_array = onnx.numpy_helper.to_array(initializer)\n",
    "    params_array.append(tensor_array)\n",
    "    \n",
    "weights_list=[]\n",
    "bias_list=[]\n",
    "i=0\n",
    "for tensor_array in params_array:\n",
    "    if(i%2==0):\n",
    "        weights_list.append(tensor_array)\n",
    "    i = i+1\n",
    "i=0\n",
    "for tensor_array in params_array:\n",
    "    if(i%2==1):\n",
    "        bias_list.append(tensor_array)\n",
    "    i = i+1\n",
    "    \n",
    "weights_list.reverse()\n",
    "bias_list.reverse()\n",
    "\n",
    "for i in range(1, len(weights_list) + 1):\n",
    "    transposed_weights = weights_list[i-1]\n",
    "    combined_weights = [transposed_weights, bias_list[i-1]]\n",
    "    nn_ctlr.layers[i].set_weights(combined_weights)"
   ]
  },
  {
   "cell_type": "markdown",
   "id": "1a66f53d",
   "metadata": {},
   "source": [
    "# Extracting weights from the .onnx file"
   ]
  },
  {
   "cell_type": "code",
   "execution_count": 11,
   "id": "fde68270",
   "metadata": {},
   "outputs": [],
   "source": [
    "weights, biases = extract_model_params_tf(nn_ctlr)"
   ]
  },
  {
   "cell_type": "code",
   "execution_count": null,
   "id": "1f808b86",
   "metadata": {},
   "outputs": [],
   "source": []
  },
  {
   "cell_type": "code",
   "execution_count": 12,
   "id": "37aab2e9",
   "metadata": {},
   "outputs": [],
   "source": [
    "layer_no = 3\n",
    "neuron_no = 1\n",
    "time_steps = 5\n",
    "input_bounds = [[1.0,1.2],[0.0,0.2]]"
   ]
  },
  {
   "cell_type": "code",
   "execution_count": 14,
   "id": "99bc960e",
   "metadata": {},
   "outputs": [],
   "source": [
    "converter = nengo_dl.Converter(nn_ctlr)\n",
    "\n",
    "scale_firing_rates=1000\n",
    "activation=nengo.SpikingRectifiedLinear() # Specifying activation function to replace ReLU\n",
    "# activation=nengo.RectifiedLinear() \n",
    "synapse=None\n",
    "\n",
    "nengo_converter = nengo_dl.Converter(\n",
    "        nn_ctlr,\n",
    "        swap_activations={tf.nn.relu: activation},\n",
    "        scale_firing_rates=scale_firing_rates,\n",
    "        synapse=synapse,\n",
    "    )\n",
    "nengo_input = nengo_converter.inputs[inp]\n",
    "nengo_output = nengo_converter.outputs[output]"
   ]
  },
  {
   "cell_type": "markdown",
   "id": "0a760554",
   "metadata": {},
   "source": [
    "## Evaluate a specific input with the SNN"
   ]
  },
  {
   "cell_type": "code",
   "execution_count": 15,
   "id": "29a08922",
   "metadata": {},
   "outputs": [
    {
     "name": "stderr",
     "output_type": "stream",
     "text": [
      "c:\\users\\kiit\\nengo-dl\\nengo_dl\\simulator.py:456: UserWarning: No GPU support detected. See https://www.nengo.ai/nengo-dl/installation.html#installing-tensorflow for instructions on setting up TensorFlow with GPU support.\n",
      "  warnings.warn(\n"
     ]
    }
   ],
   "source": [
    "net_inp = [3,5]\n",
    "# Uncomment the cell below to evaluate the SNN with random inputs\n",
    "# net_inp = [random.uniform(input_bounds[0][0], input_bounds[0][1]), random.uniform(input_bounds[1][0], input_bounds[1][1]), random.uniform(input_bounds[2][0], input_bounds[2][1]), random.uniform(input_bounds[3][0], input_bounds[3][1]), random.uniform(input_bounds[4][0], input_bounds[4][1])]\n",
    "net_inp = [round(x, 2) for x in net_inp]\n",
    "input_arr = np.array([net_inp])\n",
    "\n",
    "snn_input = np.array([[net_inp]*time_steps])\n",
    "with nengo_dl.Simulator(nengo_converter.net, progress_bar=False, seed = 0) as nengo_sim_toy:\n",
    "    data = nengo_sim_toy.predict({nengo_input: snn_input})\n",
    "out = data[nengo_output]"
   ]
  },
  {
   "cell_type": "code",
   "execution_count": 16,
   "id": "23c3bdae",
   "metadata": {},
   "outputs": [
    {
     "data": {
      "text/plain": [
       "array([[[-3.4311547],\n",
       "        [-4.895354 ],\n",
       "        [-2.8145046],\n",
       "        [-4.780682 ],\n",
       "        [-3.526785 ]]], dtype=float32)"
      ]
     },
     "execution_count": 16,
     "metadata": {},
     "output_type": "execute_result"
    }
   ],
   "source": [
    "out"
   ]
  },
  {
   "cell_type": "markdown",
   "id": "9d7f1694",
   "metadata": {},
   "source": [
    "# Function to simulate the SNN with Gurobi"
   ]
  },
  {
   "cell_type": "code",
   "execution_count": 17,
   "id": "399d2998",
   "metadata": {},
   "outputs": [],
   "source": [
    "def simulate_with_gurobi(w,b,layer, no,time_steps, input_bounds):\n",
    "    global equations, declare\n",
    "    equations=[]\n",
    "    declare=[]\n",
    "    inputs=w[0].shape[1]\n",
    "\n",
    "    # Declarations\n",
    "    for time in range(1,time_steps+1):\n",
    "        for num in range(1,inputs+1):\n",
    "            declare.append(f\"A0_{num}_{time} = model.addVar(lb=-GRB.INFINITY, name='A0_{num}_{time}')\")\n",
    "            equations.append(f\"model.addConstr(A0_{num}_{time}=={input_bounds[0][time-1][num-1]})\")\n",
    "\n",
    "    for i in range(1,layer):\n",
    "        for j in range(1,len(w[i-1])+1):\n",
    "            declare.append(f\"P{i}_{j}_0 = model.addVar(name='P{i}_{j}_0')\")\n",
    "\n",
    "    declare.append(f\"P{layer}_{no}_0 = model.addVar(name='P{layer}_{no}_0')\")\n",
    "\n",
    "    for time in range(1,time_steps+1):\n",
    "        for i in range(1,layer):\n",
    "            for j in range(1,len(w[i-1])+1):\n",
    "                declare.append(f\"X{i}_{j}_{time} = model.addVar(name='X{i}_{j}_{time}')\")\n",
    "                declare.append(f\"P{i}_{j}_{time} = model.addVar(lb=-GRB.INFINITY, name='P{i}_{j}_{time}')\")\n",
    "                declare.append(f\"S{i}_{j}_{time} = model.addVar(lb=-GRB.INFINITY, name='S{i}_{j}_{time}')\")\n",
    "                declare.append(f\"q{i}_{j}_{time} = model.addVar(vtype=gp.GRB.BINARY, name='q{i}_{j}_{time}')\")\n",
    "                declare.append(f\"A{i}_{j}_{time} = model.addVar(vtype=gp.GRB.INTEGER, name='A{i}_{j}_{time}')\")\n",
    "\n",
    "\n",
    "    for time in range(1,time_steps+1):\n",
    "        declare.append(f\"X{layer}_{no}_{time} = model.addVar(name='X{layer}_{no}_{time}')\")\n",
    "        declare.append(f\"P{layer}_{no}_{time} = model.addVar(lb=-GRB.INFINITY, name='P{layer}_{no}_{time}')\")\n",
    "        declare.append(f\"S{layer}_{no}_{time} = model.addVar(lb=-GRB.INFINITY, name='S{layer}_{no}_{time}')\")\n",
    "        declare.append(f\"q{layer}_{no}_{time} = model.addVar(vtype=gp.GRB.BINARY, name='q{layer}_{no}_{time}')\")\n",
    "        declare.append(f\"A{layer}_{no}_{time} = model.addVar(vtype=gp.GRB.INTEGER, name='A{layer}_{no}_{time}')\")\n",
    "    \n",
    "    # Encodings\n",
    "    for i in range(1,layer):\n",
    "        for j in range(1,len(w[i-1])+1):\n",
    "            equations.append(f\"model.addConstr(P{i}_{j}_0== 0)\")\n",
    "    equations.append(f\"model.addConstr(P{layer}_{no}_0== 0)\")\n",
    "\n",
    "    thresh = 1\n",
    "    lamb = 1\n",
    "    M = 99999999\n",
    "    epsilon = 0.00001\n",
    "\n",
    "    for time in range(1,time_steps+1):\n",
    "        for i in range(1,layer):\n",
    "            for j in range(1,len(w[i-1])+1):\n",
    "                equations.append(f\"model.addConstr(S{i}_{j}_{time} + P{i}_{j}_{time-1} + {M}* q{i}_{j}_{time} >= X{i}_{j}_{time})\")\n",
    "                equations.append(f\"model.addConstr(S{i}_{j}_{time} + P{i}_{j}_{time-1} <= X{i}_{j}_{time})\")\n",
    "                equations.append(f\"model.addConstr(X{i}_{j}_{time} >= 0)\")\n",
    "                equations.append(f\"model.addConstr(X{i}_{j}_{time} <= {M}*(1-q{i}_{j}_{time}))\")\n",
    "                equations.append(f\"model.addConstr(A{i}_{j}_{time} <= X{i}_{j}_{time})\")\n",
    "                equations.append(f\"model.addConstr(A{i}_{j}_{time} + 1 >= X{i}_{j}_{time} + {epsilon})\")\n",
    "                equations.append(f\"model.addConstr(P{i}_{j}_{time} == P{i}_{j}_{time-1} + S{i}_{j}_{time} - A{i}_{j}_{time})\")\n",
    "\n",
    "                equation = f'S{i}_{j}_{time} == ('\n",
    "                for k in range(len(w[i-1][0])):\n",
    "                    if(k!=0):\n",
    "                        equation += f' + '\n",
    "                    equation+=f'({w[i-1][j-1][k]} * A{i-1}_{k+1}_{time})'\n",
    "                equations.append(f\"model.addConstr({equation}) + {b[i-1][j-1]})\")\n",
    "\n",
    "    for time in range(1,time_steps+1):\n",
    "        equations.append(f\"model.addConstr(P{layer}_{no}_{time} == P{layer}_{no}_{time-1} + S{layer}_{no}_{time})\")\n",
    "\n",
    "        equation = f'S{layer}_{no}_{time} == ('\n",
    "        for k in range(len(w[layer-1][0])):\n",
    "            if(k!=0):\n",
    "                equation += f' + '\n",
    "            equation+=f'(({w[layer-1][no-1][k]}) * A{layer-1}_{k+1}_{time})'\n",
    "        equations.append(f\"model.addConstr({equation})+ {b[layer-1][no-1]})\")\n",
    "\n",
    "    equations.append(f'model.setObjective(0, gp.GRB.MAXIMIZE)')\n",
    "\n",
    "    return equations, declare"
   ]
  },
  {
   "cell_type": "markdown",
   "id": "7e7321a0",
   "metadata": {},
   "source": [
    "# Function to set parameters and solve constraints with Gurobi"
   ]
  },
  {
   "cell_type": "code",
   "execution_count": 18,
   "id": "f7208b97",
   "metadata": {},
   "outputs": [],
   "source": [
    "def summon_gurobi(dec, eqn, log, to, focus=0):\n",
    "    all_enc = dec + eqn\n",
    "    file_path = \"Gurobi_encodings_SP_sim_random.txt\"\n",
    "    with open(file_path, \"w\") as file:\n",
    "        for value in all_enc:\n",
    "            file.write(str(value) + \"\\n\")\n",
    "    model=gp.Model(\"Encodings\")\n",
    "    model.Params.MIPFocus = focus\n",
    "    model.Params.LogToConsole = log\n",
    "    model.setParam('TimeLimit', to*60*60)\n",
    "    model.Params.SolutionLimit = 1\n",
    "\n",
    "    try:\n",
    "        f = open(file_path,\"r\")\n",
    "        try:\n",
    "            for l in f:\n",
    "                exec(l)\n",
    "        finally:\n",
    "            f.close()\n",
    "    except IOError:\n",
    "        pass\n",
    "    model.optimize()\n",
    "    return model"
   ]
  },
  {
   "cell_type": "code",
   "execution_count": 19,
   "id": "e32a2b2e",
   "metadata": {},
   "outputs": [],
   "source": [
    "converter = nengo_dl.Converter(nn_ctlr)\n",
    "\n",
    "scale_firing_rates=1000\n",
    "activation=nengo.SpikingRectifiedLinear() # Specifying activation function to replace ReLU\n",
    "# activation=nengo.RectifiedLinear() \n",
    "synapse=None\n",
    "\n",
    "nengo_converter = nengo_dl.Converter(\n",
    "        nn_ctlr,\n",
    "        swap_activations={tf.nn.relu: activation},\n",
    "        scale_firing_rates=scale_firing_rates,\n",
    "        synapse=synapse,\n",
    "    )\n",
    "nengo_input = nengo_converter.inputs[inp]\n",
    "nengo_output = nengo_converter.outputs[output]"
   ]
  },
  {
   "cell_type": "markdown",
   "id": "467b5433",
   "metadata": {},
   "source": [
    "# Code to evaluate and store random samples with the SNN"
   ]
  },
  {
   "cell_type": "code",
   "execution_count": 21,
   "id": "34336dfd",
   "metadata": {},
   "outputs": [
    {
     "name": "stdout",
     "output_type": "stream",
     "text": [
      "Set parameter Username\n",
      "Academic license - for non-commercial use only - expires 2024-11-20\n",
      "50 samples done!\n",
      "100 samples done!\n",
      "150 samples done!\n",
      "200 samples done!\n"
     ]
    },
    {
     "ename": "AttributeError",
     "evalue": "Unable to retrieve attribute 'X'",
     "output_type": "error",
     "traceback": [
      "\u001b[1;31m---------------------------------------------------------------------------\u001b[0m",
      "\u001b[1;31mAttributeError\u001b[0m                            Traceback (most recent call last)",
      "Cell \u001b[1;32mIn[21], line 89\u001b[0m\n\u001b[0;32m     87\u001b[0m prefix \u001b[38;5;241m=\u001b[39m \u001b[38;5;28mstr\u001b[39m(\u001b[38;5;124mf\u001b[39m\u001b[38;5;124m'\u001b[39m\u001b[38;5;124mP\u001b[39m\u001b[38;5;132;01m{\u001b[39;00mlayer_no\u001b[38;5;132;01m}\u001b[39;00m\u001b[38;5;124m_\u001b[39m\u001b[38;5;132;01m{\u001b[39;00mneuron_no\u001b[38;5;132;01m}\u001b[39;00m\u001b[38;5;124m_\u001b[39m\u001b[38;5;132;01m{\u001b[39;00mj\u001b[38;5;132;01m}\u001b[39;00m\u001b[38;5;124m'\u001b[39m)\n\u001b[0;32m     88\u001b[0m variables_with_prefix \u001b[38;5;241m=\u001b[39m [var \u001b[38;5;28;01mfor\u001b[39;00m var \u001b[38;5;129;01min\u001b[39;00m m\u001b[38;5;241m.\u001b[39mgetVars() \u001b[38;5;28;01mif\u001b[39;00m var\u001b[38;5;241m.\u001b[39mvarName\u001b[38;5;241m.\u001b[39mstartswith(prefix)]\n\u001b[1;32m---> 89\u001b[0m snn_prediction \u001b[38;5;241m=\u001b[39m \u001b[43mvariables_with_prefix\u001b[49m\u001b[43m[\u001b[49m\u001b[38;5;241;43m0\u001b[39;49m\u001b[43m]\u001b[49m\u001b[38;5;241;43m.\u001b[39;49m\u001b[43mX\u001b[49m \u001b[38;5;241m/\u001b[39m j    \n\u001b[0;32m     90\u001b[0m sheet\u001b[38;5;241m.\u001b[39mcell(row\u001b[38;5;241m=\u001b[39mi\u001b[38;5;241m+\u001b[39m\u001b[38;5;241m2\u001b[39m, column\u001b[38;5;241m=\u001b[39mcol, value\u001b[38;5;241m=\u001b[39m\u001b[38;5;28mround\u001b[39m(snn_prediction,\u001b[38;5;241m6\u001b[39m))\n\u001b[0;32m     92\u001b[0m error \u001b[38;5;241m=\u001b[39m ann_prediction[\u001b[38;5;241m0\u001b[39m][\u001b[38;5;241m0\u001b[39m] \u001b[38;5;241m-\u001b[39m snn_prediction\n",
      "File \u001b[1;32msrc\\gurobipy\\var.pxi:125\u001b[0m, in \u001b[0;36mgurobipy.Var.__getattr__\u001b[1;34m()\u001b[0m\n",
      "File \u001b[1;32msrc\\gurobipy\\var.pxi:153\u001b[0m, in \u001b[0;36mgurobipy.Var.getAttr\u001b[1;34m()\u001b[0m\n",
      "File \u001b[1;32msrc\\gurobipy\\attrutil.pxi:100\u001b[0m, in \u001b[0;36mgurobipy.__getattr\u001b[1;34m()\u001b[0m\n",
      "\u001b[1;31mAttributeError\u001b[0m: Unable to retrieve attribute 'X'"
     ]
    }
   ],
   "source": [
    "from openpyxl import Workbook\n",
    "input_bounds = [[1.0,1.2],[0.0,0.2]]\n",
    "\n",
    "layer_no = 3\n",
    "neuron_no = 1\n",
    "time_steps = 20\n",
    "\n",
    "error_gurobi = 0\n",
    "error_nengo = 0\n",
    "error_gurobi_sq = 0\n",
    "error_nengo_sq = 0\n",
    "max_error_gurobi = 0\n",
    "max_error_nengo = 0\n",
    "samples = 500\n",
    "\n",
    "# print(\"Time Steps: \",time_steps)\n",
    "excel_file_path = f'SP_random_sims.xlsx'\n",
    "\n",
    "workbook = Workbook()\n",
    "sheet = workbook.active\n",
    "sheet.cell(row=1, column=1, value='Sl. No.')\n",
    "sheet.cell(row=1, column=2, value='Input')\n",
    "sheet.cell(row=1, column=3, value='ANN Prediction')\n",
    "\n",
    "row = 1\n",
    "col = 4\n",
    "\n",
    "for t in range (1, time_steps+1):\n",
    "    \n",
    "    sheet.cell(row=1, column=col, value=f'Nengo Pred_{t}_TS')\n",
    "    sheet.cell(row=1, column=col+1, value=f'Gurobi Pred_{t}_TS')\n",
    "    sheet.cell(row=1, column=col+2, value=f'Error_{t}_TS (ANN- Nengo SNN)')\n",
    "    sheet.cell(row=1, column=col+3, value=f'Error_{t}_TS (ANN- Gurobi SNN)')\n",
    "    sheet.cell(row=1, column=col+4, value=f'Error_sq_{t}_TS Nengo')\n",
    "    sheet.cell(row=1, column=col+5, value=f'Error_sq_{t}_TS Gurobi')\n",
    "    col +=7\n",
    "\n",
    "for i in range(1,samples+1):\n",
    "    \n",
    "    net_inp = [random.uniform(input_bounds[0][0], input_bounds[0][1]), random.uniform(input_bounds[1][0], input_bounds[1][1])]\n",
    "    net_inp = [round(x, 2) for x in net_inp]\n",
    "    input_arr = np.array([net_inp])\n",
    "    \n",
    "    # Prediction from ANN controller using Keras\n",
    "    ann_prediction = nn_ctlr.predict(input_arr)\n",
    "    ann_prediction = [np.round(x, 2) for x in ann_prediction]\n",
    "    sheet.cell(row=i+2, column=1, value=i)\n",
    "    rounded_list = [round(element, 3) for element in net_inp]\n",
    "    sheet.cell(row=i+2, column=2, value=str(rounded_list))\n",
    "    sheet.cell(row=i+2, column=3, value=round(float(ann_prediction[0][0]),3))\n",
    "    \n",
    "    # Prediction from SNN simulated with Gurobi\n",
    "    snn_input = np.array([[net_inp]*time_steps])\n",
    "    eqn, dec = simulate_with_gurobi(weights, biases, layer_no, neuron_no, time_steps, snn_input)\n",
    "    m = summon_gurobi(dec, eqn,0, 1)\n",
    "    \n",
    "    col = 5\n",
    "    for j in range(1,time_steps+1):\n",
    "        prefix = str(f'P{layer_no}_{neuron_no}_{j}')\n",
    "        variables_with_prefix = [var for var in m.getVars() if var.varName.startswith(prefix)]\n",
    "        snn_prediction = variables_with_prefix[0].X / j    \n",
    "        sheet.cell(row=i+2, column=col, value=round(snn_prediction,6))\n",
    "        \n",
    "        error = ann_prediction[0][0] - snn_prediction\n",
    "        sheet.cell(row=i+2, column=col+2, value=error)\n",
    "        sheet.cell(row=i+2, column=col+4, value=error**2)\n",
    "        col+=7\n",
    "    m.dispose()\n",
    "    \n",
    "    \n",
    "    if(i%50==0):\n",
    "        print(i, \"samples done!\")"
   ]
  },
  {
   "cell_type": "code",
   "execution_count": 22,
   "id": "1e4d53f6",
   "metadata": {},
   "outputs": [
    {
     "name": "stdout",
     "output_type": "stream",
     "text": [
      "Done\n"
     ]
    }
   ],
   "source": [
    "workbook.save(excel_file_path)\n",
    "workbook.close()\n",
    "print('Done')"
   ]
  }
 ],
 "metadata": {
  "kernelspec": {
   "display_name": "Python 3 (ipykernel)",
   "language": "python",
   "name": "python3"
  },
  "language_info": {
   "codemirror_mode": {
    "name": "ipython",
    "version": 3
   },
   "file_extension": ".py",
   "mimetype": "text/x-python",
   "name": "python",
   "nbconvert_exporter": "python",
   "pygments_lexer": "ipython3",
   "version": "3.10.9"
  }
 },
 "nbformat": 4,
 "nbformat_minor": 5
}
